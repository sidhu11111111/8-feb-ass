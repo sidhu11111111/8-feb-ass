{
 "cells": [
  {
   "cell_type": "markdown",
   "id": "66923dd2",
   "metadata": {},
   "source": [
    "#QNO.1 ANS"
   ]
  },
  {
   "cell_type": "markdown",
   "id": "2e9a5cf9",
   "metadata": {},
   "source": [
    " Abstraction is the process of hiding complex implementation details while showing only the essential features of an object or a system to the users. It is one of the fundamental concepts in Object-Oriented Programming (OOPs) and helps in reducing the complexity and increasing the flexibility of a program.\n",
    "\n",
    "For example, consider a car. As a user, we only need to know how to operate the car using the pedals, steering wheel, and gears. We do not need to know about the internal workings of the engine, transmission, and other components. This is an example of abstraction, where the complex implementation details of the car are hidden, and only the essential features are exposed to the user."
   ]
  },
  {
   "cell_type": "markdown",
   "id": "18b8afce",
   "metadata": {},
   "source": [
    "#QN0.2 ANS\n",
    ". Abstraction and Encapsulation are two essential concepts in Object-Oriented Programming (OOPs).\n",
    "\n",
    "Abstraction is the process of hiding complex implementation details while showing only the essential features of an object or a system to the users. It is achieved by creating abstract classes or interfaces that define the essential features without specifying their implementation details.\n",
    "\n",
    "Encapsulation is the process of wrapping the data and code into a single unit called a class, which provides a level of protection and security to the data. It is achieved by using access modifiers such as private, public, and protected, which restrict the access to the data and methods of the class.\n",
    "\n",
    "For example, consider a bank account. The user only needs to know how to deposit, withdraw, and check the balance of the account. The implementation details of how the account is stored and processed are hidden from the user. This is an example of abstraction. On the other hand, encapsulation ensures that the data such as the account number, balance, and transactions are protected from unauthorized access by using access modifiers such as private."
   ]
  },
  {
   "cell_type": "markdown",
   "id": "20072aa2",
   "metadata": {},
   "source": [
    "#QNO.3 ANS\n",
    " abc module in python stands for Abstract Base Classes. It is a module that provides a way to define abstract classes in python. Abstract classes are classes that cannot be instantiated and are meant to be subclassed. They provide a way to define the interface of a class without specifying its implementation details.\n",
    "\n",
    "The abc module provides the ABCMeta metaclass, which is used to define abstract classes. The abstract methods in the abstract class are marked with the @abstractmethod decorator, which indicates that the method is abstract and must be implemented by the subclasses.\n",
    "\n",
    "The abc module is used to implement the concept of abstraction in python and is widely used in many python libraries and frameworks."
   ]
  },
  {
   "cell_type": "markdown",
   "id": "53e942ca",
   "metadata": {},
   "source": [
    "#QNO.4 ANS\n",
    " Data abstraction is achieved by creating abstract classes or interfaces that define the essential features of a class without specifying their implementation details. Abstract classes are classes that cannot be instantiated and are meant to be subclassed. They provide a way to define the interface of a class without specifying its implementation details.\n",
    "\n",
    "For example, consider a shape class. The shape class can be defined as an abstract class with abstract methods such as area and perimeter. The subclasses such as Circle, Rectangle, and Triangle can implement these abstract methods according to their specific implementation details. The user can then interact with the shape objects without knowing their implementation details, thus achieving data abstraction."
   ]
  },
  {
   "cell_type": "markdown",
   "id": "4fe4b1fb",
   "metadata": {},
   "source": [
    "#QNO.5 ANS\n",
    "No, we cannot create an instance of an abstract class. Abstract classes are classes that cannot be instantiated and are meant to be subclassed. They provide a way to define the interface of a class without specifying its implementation details. The subclasses must implement the abstract methods of the abstract class to provide the implementation details."
   ]
  },
  {
   "cell_type": "code",
   "execution_count": null,
   "id": "aeb6be7b",
   "metadata": {},
   "outputs": [],
   "source": []
  }
 ],
 "metadata": {
  "kernelspec": {
   "display_name": "Python 3 (ipykernel)",
   "language": "python",
   "name": "python3"
  },
  "language_info": {
   "codemirror_mode": {
    "name": "ipython",
    "version": 3
   },
   "file_extension": ".py",
   "mimetype": "text/x-python",
   "name": "python",
   "nbconvert_exporter": "python",
   "pygments_lexer": "ipython3",
   "version": "3.9.13"
  }
 },
 "nbformat": 4,
 "nbformat_minor": 5
}
